{
  "nbformat": 4,
  "nbformat_minor": 0,
  "metadata": {
    "colab": {
      "name": "Untitled1.ipynb",
      "provenance": [],
      "collapsed_sections": []
    },
    "kernelspec": {
      "name": "python3",
      "display_name": "Python 3"
    },
    "language_info": {
      "name": "python"
    }
  },
  "cells": [
    {
      "cell_type": "code",
      "source": [
        "import cv2\n",
        "import numpy as np\n",
        "import os\n",
        "import re"
      ],
      "metadata": {
        "id": "AMDJQDAv_V19"
      },
      "execution_count": null,
      "outputs": []
    },
    {
      "cell_type": "code",
      "source": [
        "def make_image_path_pairs(dir_real, dir_generated):\n",
        "    image_pairs = []\n",
        "\n",
        "    fake_regex = r'(.*)_fake_B_2.png'\n",
        "    real_regex = r'(.*)_real_B.png'\n",
        "    fake_paths = {}\n",
        "    real_paths = {}\n",
        "    \n",
        "    for root, _, fnames in sorted(os.walk(dir_real)):\n",
        "        for fname in fnames:\n",
        "            path = os.path.join(root, fname)\n",
        "            match = re.search(real_regex, fname)\n",
        "            if match:\n",
        "                key = match[1]\n",
        "                if key in fake_paths:\n",
        "                    fake_path = fake_paths[key]\n",
        "                    image_pairs.append((fake_path, path))\n",
        "                    del fake_paths[key]\n",
        "                    continue\n",
        "                real_paths[key] = path\n",
        "\n",
        "    for root, _, fnames in sorted(os.walk(dir_generated)):\n",
        "        for fname in fnames:\n",
        "            path = os.path.join(root, fname)\n",
        "            match = re.search(fake_regex, fname)\n",
        "            if match:\n",
        "                key = match[1]\n",
        "                if key in real_paths:\n",
        "                    real_path = real_paths[key]\n",
        "                    image_pairs.append((path, real_path))\n",
        "                    del real_paths[key]\n",
        "                    continue\n",
        "                fake_paths[key] = path\n",
        "    return image_pairs\n",
        "\n",
        "def MAE(imageA, imageB):\n",
        "    abs_error = np.sum(abs(imageA.astype(\"float\") - imageB.astype(\"float\")))\n",
        "    mean_abs_error = abs_error / float(imageA.shape[0] * imageB.shape[1] * imageB.shape[2])\n",
        "    return mean_abs_error\n",
        "\n",
        "def RMSE(imageA, imageB):\n",
        "    sq_error = np.sum((imageA.astype(\"float\") - imageB.astype(\"float\"))**2)\n",
        "    mse = sq_error / float(imageA.shape[0] * imageB.shape[1] * imageB.shape[2])\n",
        "    return np.sqrt(mse)"
      ],
      "metadata": {
        "id": "stflTV7CjQ-F"
      },
      "execution_count": null,
      "outputs": []
    },
    {
      "cell_type": "code",
      "source": [
        "real_path = '/content/google_drive/MyDrive/images_datasets/real/'\n",
        "generated_path = '/content/google_drive/MyDrive/images_datasets/generated/'\n",
        "\n",
        "image_path_pairs = make_image_path_pairs(real_path, generated_path)\n",
        "image_pairs = [(cv2.imread(fake), cv2.imread(real)) for fake, real in image_path_pairs]"
      ],
      "metadata": {
        "id": "KHhWYIdzjWXX"
      },
      "execution_count": null,
      "outputs": []
    },
    {
      "cell_type": "code",
      "source": [
        "l1_distances = []\n",
        "l2_distances = []\n",
        "for fake, real in image_pairs:\n",
        "    l1_distances.append(MAE(fake, real))\n",
        "    l2_distances.append(RMSE(fake, real))\n",
        "\n",
        "avg_l1_dist = sum(l1_distances)/len(l1_distances)\n",
        "avg_l2_dist = sum(l2_distances)/len(l2_distances)\n",
        "print(\"Average mean average error (l1 loss) between the {} image pairs: {}\".format(len(l1_distances), avg_l1_dist))\n",
        "print(\"Average root mean squared error (l2 loss) between the {} image pairs: {}\".format(len(l2_distances), avg_l2_dist))"
      ],
      "metadata": {
        "id": "LwDzDbLwjXTK"
      },
      "execution_count": null,
      "outputs": []
    }
  ]
}